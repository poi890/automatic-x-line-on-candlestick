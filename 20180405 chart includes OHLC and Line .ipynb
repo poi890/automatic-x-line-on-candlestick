{
 "cells": [
  {
   "cell_type": "code",
   "execution_count": null,
   "metadata": {},
   "outputs": [],
   "source": [
    "from matplotlib.finance import candlestick_ochl\n",
    "import matplotlib.pyplot as plt\n",
    "import matplotlib.dates as mdates\n",
    "import matplotlib.ticker as mticker\n",
    "import datetime\n",
    "\n",
    "fig = plt.figure()\n",
    "ax1 = fig.add_subplot(111) # in this function, first number 1 represent the height,\n",
    "# second is for width and third is the plot number\n",
    "ax2 = fig.add_subplot(111) # make sure both have same arguments for add_subplot function\n",
    "\n",
    "ochl = [[mdates.date2num(datetime.date(2014, 12, 29)),20,30,35,15],\n",
    "    [mdates.date2num(datetime.date(2015, 1, 30)),21,14,40,10],\n",
    "    [mdates.date2num(datetime.date(2015, 2, 28)),23,29,45,15]]\n",
    "\n",
    "# it is in the same expected order    date,open,high,low,close\n",
    "candlestick_ochl(ax1, ochl, width=4, colorup='g', colordown='r', alpha=1)\n",
    "ax1.xaxis.set_major_formatter(mdates.DateFormatter('%Y-%m-%d'))\n",
    "ax1.xaxis.set_major_locator(mticker.MaxNLocator(4))\n",
    "ax1.grid(True)\n",
    "\n",
    "ax2.plot([mdates.date2num(datetime.date(2014, 12, 29)),mdates.date2num(datetime.date(2015, 1, 29))],[20,30],color = 'b')\n",
    "# make sure in the second plot, the xaxis is also like date type converted to number by date2num function\n",
    "plt.show()\n",
    "\n"
   ]
  },
  {
   "cell_type": "code",
   "execution_count": 15,
   "metadata": {},
   "outputs": [],
   "source": [
    ""
   ]
  },
  {
   "cell_type": "code",
   "execution_count": null,
   "metadata": {},
   "outputs": [],
   "source": []
  }
 ],
 "metadata": {
  "kernelspec": {
   "display_name": "Python 2",
   "language": "python",
   "name": "python2"
  },
  "language_info": {
   "codemirror_mode": {
    "name": "ipython",
    "version": 2
   },
   "file_extension": ".py",
   "mimetype": "text/x-python",
   "name": "python",
   "nbconvert_exporter": "python",
   "pygments_lexer": "ipython2",
   "version": "2.7.6"
  }
 },
 "nbformat": 4,
 "nbformat_minor": 0
}
